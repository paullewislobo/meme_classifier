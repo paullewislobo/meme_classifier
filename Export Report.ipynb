{
 "cells": [
  {
   "cell_type": "code",
   "execution_count": 1,
   "metadata": {},
   "outputs": [],
   "source": [
    "%matplotlib inline\n",
    "\n",
    "import requests\n",
    "from bs4 import BeautifulSoup\n",
    "import time\n",
    "import praw\n",
    "import datetime\n",
    "from time import mktime\n",
    "import matplotlib.pyplot as plt\n",
    "from pytrends.request import TrendReq\n",
    "import pandas as pd\n",
    "\n",
    "from database import Database\n",
    "import time\n",
    "\n"
   ]
  },
  {
   "cell_type": "code",
   "execution_count": 2,
   "metadata": {},
   "outputs": [],
   "source": [
    "database = Database()\n",
    "database_connection = database.get_connection()\n"
   ]
  },
  {
   "cell_type": "code",
   "execution_count": 3,
   "metadata": {},
   "outputs": [],
   "source": [
    "report = pd.read_sql(\"select MEME_ID, ID, URL, IMAGE_URL, TITLE, SCORE, CREATION_TS, AUTHOR, AUTHOR_USER_ID, NUM_COMMENTS, PREDICTED_PERCENTAGE, PREDICTION FROM MEME WHERE PREDICTION not in ('Unknown','Removed') ORDER BY CREATION_TS ASC\", con=database_connection)\n",
    "\n",
    "report.to_excel(\"reports/report.xlsx\")"
   ]
  },
  {
   "cell_type": "code",
   "execution_count": 4,
   "metadata": {},
   "outputs": [],
   "source": [
    "date_query = \"\"\"\n",
    "SELECT\n",
    "DATE(CREATION_TS),\n",
    "\n",
    "SUM(CASE WHEN PREDICTION  not in ('Unknown', 'Removed') THEN 1 ELSE 0 END) AS COUNT_CLASSIFIED_POSTS,\n",
    "SUM(CASE WHEN PREDICTION not in ('Unknown', 'Removed') THEN SCORE ELSE 0 END) AS CLASSIFIED_POSTS_SCORES,\n",
    "SUM(CASE WHEN PREDICTION not in ('Unknown', 'Removed') THEN NUM_COMMENTS ELSE 0 END) AS CLASSIFIED_POSTS_COMMENTS,\n",
    "\n",
    "SUM(CASE WHEN PREDICTION ='Unknown' THEN 1 ELSE 0 END) AS UNKNOWN_POSTS,\n",
    "SUM(CASE WHEN PREDICTION ='Unknown' THEN SCORE ELSE 0 END) AS UNKNOWN_POSTS_SCORES,\n",
    "SUM(CASE WHEN PREDICTION ='Unknown' THEN NUM_COMMENTS ELSE 0 END) AS UNKNOWN_POSTS_COMMENTS,\n",
    "\n",
    "SUM(CASE WHEN PREDICTION ='Removed' THEN 1 ELSE 0 END) AS DELETED_POSTS,\n",
    "SUM(CASE WHEN PREDICTION ='Removed' THEN SCORE ELSE 0 END) AS DELETED_POSTS_SCORES,\n",
    "SUM(CASE WHEN PREDICTION ='Removed' THEN NUM_COMMENTS ELSE 0 END) AS DELETED_POSTS_COMMENTS\n",
    "\n",
    "FROM MEME GROUP BY DATE(CREATION_TS)\n",
    "ORDER BY DATE(CREATION_TS) ASC;\n",
    "\"\"\""
   ]
  },
  {
   "cell_type": "code",
   "execution_count": 5,
   "metadata": {},
   "outputs": [],
   "source": [
    "report = pd.read_sql(date_query, con=database_connection)\n",
    "\n",
    "report.to_excel(\"reports/counts_by_date.xlsx\")"
   ]
  },
  {
   "cell_type": "code",
   "execution_count": 6,
   "metadata": {},
   "outputs": [],
   "source": [
    "weekquery = \"\"\"\n",
    "SELECT\n",
    "YEARWEEK(CREATION_TS),\n",
    "\n",
    "SUM(CASE WHEN PREDICTION  not in ('Unknown', 'Removed') THEN 1 ELSE 0 END) AS COUNT_CLASSIFIED_POSTS,\n",
    "SUM(CASE WHEN PREDICTION not in ('Unknown', 'Removed') THEN SCORE ELSE 0 END) AS CLASSIFIED_POSTS_SCORES,\n",
    "SUM(CASE WHEN PREDICTION not in ('Unknown', 'Removed') THEN NUM_COMMENTS ELSE 0 END) AS CLASSIFIED_POSTS_COMMENTS,\n",
    "\n",
    "SUM(CASE WHEN PREDICTION ='Unknown' THEN 1 ELSE 0 END) AS UNKNOWN_POSTS,\n",
    "SUM(CASE WHEN PREDICTION ='Unknown' THEN SCORE ELSE 0 END) AS UNKNOWN_POSTS_SCORES,\n",
    "SUM(CASE WHEN PREDICTION ='Unknown' THEN NUM_COMMENTS ELSE 0 END) AS UNKNOWN_POSTS_COMMENTS,\n",
    "\n",
    "SUM(CASE WHEN PREDICTION ='Removed' THEN 1 ELSE 0 END) AS DELETED_POSTS,\n",
    "SUM(CASE WHEN PREDICTION ='Removed' THEN SCORE ELSE 0 END) AS DELETED_POSTS_SCORES,\n",
    "SUM(CASE WHEN PREDICTION ='Removed' THEN NUM_COMMENTS ELSE 0 END) AS DELETED_POSTS_COMMENTS\n",
    "\n",
    "FROM MEME GROUP BY YEARWEEK(CREATION_TS)\n",
    "ORDER BY YEARWEEK(CREATION_TS) ASC;\n",
    "\n",
    "\"\"\""
   ]
  },
  {
   "cell_type": "code",
   "execution_count": 7,
   "metadata": {},
   "outputs": [],
   "source": [
    "report = pd.read_sql(weekquery, con=database_connection)\n",
    "\n",
    "report.to_excel(\"reports/counts_by_week.xlsx\")"
   ]
  },
  {
   "cell_type": "code",
   "execution_count": null,
   "metadata": {},
   "outputs": [],
   "source": []
  }
 ],
 "metadata": {
  "kernelspec": {
   "display_name": "Python 3",
   "language": "python",
   "name": "python3"
  },
  "language_info": {
   "codemirror_mode": {
    "name": "ipython",
    "version": 3
   },
   "file_extension": ".py",
   "mimetype": "text/x-python",
   "name": "python",
   "nbconvert_exporter": "python",
   "pygments_lexer": "ipython3",
   "version": "3.6.8"
  }
 },
 "nbformat": 4,
 "nbformat_minor": 2
}
